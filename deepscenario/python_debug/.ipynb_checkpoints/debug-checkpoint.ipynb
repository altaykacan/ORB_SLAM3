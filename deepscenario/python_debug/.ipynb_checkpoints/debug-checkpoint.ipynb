{
 "cells": [
  {
   "cell_type": "code",
   "execution_count": 13,
   "metadata": {},
   "outputs": [],
   "source": [
    "import json\n",
    "from typing import Dict\n",
    "\n",
    "def read_json_file(file_path):\n",
    "    \"\"\"\n",
    "    Function to read a json file and return the object as\n",
    "    a python dictionary and a list of its top level keys.\n",
    "    \"\"\"\n",
    "    with open(file_path, 'r') as file:\n",
    "        json_data = json.load(file)\n",
    "        keys = list(json_data.keys())\n",
    "        return json_data, keys\n",
    "\n",
    "def save_processed_json(json_dict:Dict, save_name:str):\n",
    "    \"\"\"\n",
    "    Function to save in a json object read-in as a python dictionary into a file.\n",
    "    This is done to convert the 1 line json object from the GoPro telemetry\n",
    "    extraction to a more human-friendly format.\n",
    "    \"\"\"\n",
    "    with open(save_name, \"w\") as file:\n",
    "        json.dump(json_dict, file, indent=4) # indent is used to pretty print"
   ]
  },
  {
   "cell_type": "code",
   "execution_count": 14,
   "metadata": {},
   "outputs": [],
   "source": [
    "file_name = \"/home/altay/GX020061.json\"\n",
    "\n",
    "data, top_keys = read_json_file(file_name)\n",
    "save_processed_json(data, \"processed.json\")\n"
   ]
  },
  {
   "cell_type": "code",
   "execution_count": null,
   "metadata": {},
   "outputs": [],
   "source": []
  }
 ],
 "metadata": {
  "kernelspec": {
   "display_name": "base",
   "language": "python",
   "name": "python3"
  },
  "language_info": {
   "codemirror_mode": {
    "name": "ipython",
    "version": 3
   },
   "file_extension": ".py",
   "mimetype": "text/x-python",
   "name": "python",
   "nbconvert_exporter": "python",
   "pygments_lexer": "ipython3",
   "version": "3.11.5"
  }
 },
 "nbformat": 4,
 "nbformat_minor": 2
}
